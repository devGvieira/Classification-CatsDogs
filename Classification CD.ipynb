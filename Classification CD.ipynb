{
 "cells": [
  {
   "cell_type": "code",
   "execution_count": 1,
   "metadata": {},
   "outputs": [
    {
     "name": "stderr",
     "output_type": "stream",
     "text": [
      "2023-11-14 14:22:54.198092: I tensorflow/core/util/port.cc:110] oneDNN custom operations are on. You may see slightly different numerical results due to floating-point round-off errors from different computation orders. To turn them off, set the environment variable `TF_ENABLE_ONEDNN_OPTS=0`.\n",
      "2023-11-14 14:22:54.201056: I tensorflow/tsl/cuda/cudart_stub.cc:28] Could not find cuda drivers on your machine, GPU will not be used.\n",
      "2023-11-14 14:22:54.243016: I tensorflow/tsl/cuda/cudart_stub.cc:28] Could not find cuda drivers on your machine, GPU will not be used.\n",
      "2023-11-14 14:22:54.243832: I tensorflow/core/platform/cpu_feature_guard.cc:182] This TensorFlow binary is optimized to use available CPU instructions in performance-critical operations.\n",
      "To enable the following instructions: AVX2 AVX512F AVX512_VNNI FMA, in other operations, rebuild TensorFlow with the appropriate compiler flags.\n",
      "2023-11-14 14:22:55.048726: W tensorflow/compiler/tf2tensorrt/utils/py_utils.cc:38] TF-TRT Warning: Could not find TensorRT\n"
     ]
    },
    {
     "name": "stdout",
     "output_type": "stream",
     "text": [
      "Found 557 files belonging to 2 classes.\n",
      "Found 140 files belonging to 2 classes.\n"
     ]
    }
   ],
   "source": [
    "import os, warnings\n",
    "import tensorflow as tf\n",
    "from tensorflow.keras.preprocessing import image_dataset_from_directory\n",
    "\n",
    "ds_train = image_dataset_from_directory(\n",
    "    '/home/hub/Documents/Disciplina IA/Classification Cats-Dogs/train',\n",
    "    labels='inferred',\n",
    "    label_mode = 'binary',\n",
    "    interpolation='nearest',\n",
    "    image_size = [64,64],\n",
    "    batch_size=64,\n",
    "    shuffle =True\n",
    ")\n",
    "\n",
    "ds_valid = image_dataset_from_directory(\n",
    "    '/home/hub/Documents/Disciplina IA/Classification Cats-Dogs/test',\n",
    "    labels='inferred',\n",
    "    label_mode = 'binary',\n",
    "    interpolation='nearest',\n",
    "    image_size = [64,64],\n",
    "    batch_size=64,\n",
    "    shuffle =True    \n",
    ")\n",
    "\n",
    "def convert_to_float(image,label):\n",
    "    image = tf.image.convert_image_dtype(image,dtype=tf.float32)\n",
    "    return image,label\n",
    "\n",
    "AUTOTUNE = tf.data.experimental.AUTOTUNE\n",
    "\n",
    "ds_train = (\n",
    "    ds_train.map(convert_to_float).cache().prefetch(buffer_size = AUTOTUNE)\n",
    ")\n",
    "\n",
    "ds_valid = (\n",
    "    ds_valid.map(convert_to_float).cache().prefetch(buffer_size = AUTOTUNE)\n",
    ")"
   ]
  },
  {
   "cell_type": "code",
   "execution_count": 2,
   "metadata": {},
   "outputs": [],
   "source": [
    "# pretrained_base = tf.keras.models.load_model(\n",
    "#     tf.keras.applications.VGG16()\n",
    "# )\n",
    "# pretrained_base.trainable = False"
   ]
  },
  {
   "cell_type": "code",
   "execution_count": 3,
   "metadata": {},
   "outputs": [
    {
     "name": "stdout",
     "output_type": "stream",
     "text": [
      "Model: \"sequential\"\n",
      "_________________________________________________________________\n",
      " Layer (type)                Output Shape              Param #   \n",
      "=================================================================\n",
      " conv2d (Conv2D)             (None, 60, 60, 32)        2432      \n",
      "                                                                 \n",
      " conv2d_1 (Conv2D)           (None, 56, 56, 64)        51264     \n",
      "                                                                 \n",
      " conv2d_2 (Conv2D)           (None, 52, 52, 128)       204928    \n",
      "                                                                 \n",
      " max_pooling2d (MaxPooling2  (None, 17, 17, 128)       0         \n",
      " D)                                                              \n",
      "                                                                 \n",
      " flatten (Flatten)           (None, 36992)             0         \n",
      "                                                                 \n",
      " dense (Dense)               (None, 128)               4735104   \n",
      "                                                                 \n",
      " dropout (Dropout)           (None, 128)               0         \n",
      "                                                                 \n",
      " dense_1 (Dense)             (None, 1)                 129       \n",
      "                                                                 \n",
      "=================================================================\n",
      "Total params: 4993857 (19.05 MB)\n",
      "Trainable params: 4993857 (19.05 MB)\n",
      "Non-trainable params: 0 (0.00 Byte)\n",
      "_________________________________________________________________\n",
      "Epoch 1/10\n",
      "9/9 [==============================] - 10s 960ms/step - loss: 0.7637 - binary_accuracy: 0.4740 - val_loss: 0.6924 - val_binary_accuracy: 0.5643\n",
      "Epoch 2/10\n",
      "9/9 [==============================] - 10s 1s/step - loss: 0.6931 - binary_accuracy: 0.4847 - val_loss: 0.6914 - val_binary_accuracy: 0.5143\n",
      "Epoch 3/10\n",
      "9/9 [==============================] - 9s 1s/step - loss: 0.6907 - binary_accuracy: 0.5045 - val_loss: 0.6885 - val_binary_accuracy: 0.5571\n",
      "Epoch 4/10\n",
      "9/9 [==============================] - 14s 2s/step - loss: 0.6834 - binary_accuracy: 0.5673 - val_loss: 0.6914 - val_binary_accuracy: 0.5214\n",
      "Epoch 5/10\n",
      "9/9 [==============================] - 11s 1s/step - loss: 0.6529 - binary_accuracy: 0.6355 - val_loss: 0.7160 - val_binary_accuracy: 0.5929\n",
      "Epoch 6/10\n",
      "9/9 [==============================] - 12s 1s/step - loss: 0.6293 - binary_accuracy: 0.6948 - val_loss: 0.6930 - val_binary_accuracy: 0.6071\n",
      "Epoch 7/10\n",
      "9/9 [==============================] - 11s 1s/step - loss: 0.6053 - binary_accuracy: 0.6661 - val_loss: 0.6938 - val_binary_accuracy: 0.5786\n",
      "Epoch 8/10\n",
      "9/9 [==============================] - 11s 1s/step - loss: 0.5398 - binary_accuracy: 0.7163 - val_loss: 0.7041 - val_binary_accuracy: 0.5857\n",
      "Epoch 9/10\n",
      "9/9 [==============================] - 11s 1s/step - loss: 0.4739 - binary_accuracy: 0.7756 - val_loss: 0.7455 - val_binary_accuracy: 0.6429\n",
      "Epoch 10/10\n",
      "9/9 [==============================] - 11s 1s/step - loss: 0.4463 - binary_accuracy: 0.7792 - val_loss: 0.7205 - val_binary_accuracy: 0.6500\n"
     ]
    }
   ],
   "source": [
    "from tensorflow import keras\n",
    "from keras.models import Sequential\n",
    "from keras.layers import Dense, Dropout, Flatten\n",
    "from keras.layers import Conv2D, MaxPooling2D\n",
    "\n",
    "modelo = Sequential()\n",
    "modelo.add(Conv2D(32, (5,5), activation='relu', input_shape=(64, 64, 3)))\n",
    "modelo.add(Conv2D(64, (5,5), activation='relu'))\n",
    "modelo.add(Conv2D(128, (5,5), activation='relu'))\n",
    "modelo.add(MaxPooling2D(pool_size=(3,3)))\n",
    "\n",
    "modelo.add(Flatten())\n",
    "modelo.add(Dense(128, activation='relu'))\n",
    "modelo.add(Dropout(0.3))\n",
    "modelo.add(Dense(1, activation='sigmoid'))\n",
    "\n",
    "# model = keras.Sequential([\n",
    "#     pretrained_base,\n",
    "#     layers.Flatten(),\n",
    "#     layers.Dense(6, activation='relu')\n",
    "#     layers.Dense(1, activation='sigmoid')\n",
    "# ])\n",
    "\n",
    "modelo.summary()\n",
    "\n",
    "modelo.compile(\n",
    "    optimizer = 'adam',\n",
    "    loss='binary_crossentropy',\n",
    "    metrics = ['binary_accuracy']\n",
    ")\n",
    "\n",
    "history = modelo.fit(\n",
    "    ds_train,\n",
    "    validation_data = ds_valid,\n",
    "    epochs = 10,\n",
    "    verbose=1\n",
    ")"
   ]
  },
  {
   "cell_type": "code",
   "execution_count": 4,
   "metadata": {},
   "outputs": [
    {
     "data": {
      "text/plain": [
       "[<matplotlib.lines.Line2D at 0x7f8b1c895a30>]"
      ]
     },
     "execution_count": 4,
     "metadata": {},
     "output_type": "execute_result"
    },
    {
     "data": {
      "image/png": "[encoded data removed]",
      "text/plain": [
       "<Figure size 640x480 with 1 Axes>"
      ]
     },
     "metadata": {},
     "output_type": "display_data"
    }
   ],
   "source": [
    "import matplotlib.pyplot as plt\n",
    "\n",
    "# Gráfico para visualizar os erros e accuracy\n",
    "history.history.keys()\n",
    "#evolução do erro, azul\n",
    "plt.plot(history.history['binary_accuracy'])\n",
    "#performance da rede\n",
    "plt.plot(history.history['val_binary_accuracy'])"
   ]
  },
  {
   "cell_type": "code",
   "execution_count": 5,
   "metadata": {},
   "outputs": [
    {
     "name": "stdout",
     "output_type": "stream",
     "text": [
      "3/3 [==============================] - 1s 232ms/step - loss: 0.7205 - binary_accuracy: 0.6500\n"
     ]
    }
   ],
   "source": [
    "test_loss, test_acc = modelo.evaluate(ds_valid, verbose=1)"
   ]
  },
  {
   "cell_type": "code",
   "execution_count": 6,
   "metadata": {},
   "outputs": [
    {
     "name": "stdout",
     "output_type": "stream",
     "text": [
      "Acurácia: 0.6499999761581421 - Erro: 0.7204611897468567\n"
     ]
    }
   ],
   "source": [
    "print(f'Acurácia: {test_acc} - Erro: {test_loss}')"
   ]
  }
 ],
 "metadata": {
  "kernelspec": {
   "display_name": "ClassCDvenv",
   "language": "python",
   "name": "python3"
  },
  "language_info": {
   "codemirror_mode": {
    "name": "ipython",
    "version": 3
   },
   "file_extension": ".py",
   "mimetype": "text/x-python",
   "name": "python",
   "nbconvert_exporter": "python",
   "pygments_lexer": "ipython3",
   "version": "3.8.10"
  }
 },
 "nbformat": 4,
 "nbformat_minor": 2
}
